{
 "cells": [
  {
   "cell_type": "markdown",
   "metadata": {},
   "source": [
    "# EDA \n",
    "\n",
    "This is a draft of our team's EDA."
   ]
  },
  {
   "cell_type": "code",
   "execution_count": 1,
   "metadata": {},
   "outputs": [
    {
     "name": "stderr",
     "output_type": "stream",
     "text": [
      "/anaconda3/lib/python3.6/site-packages/h5py/__init__.py:36: FutureWarning: Conversion of the second argument of issubdtype from `float` to `np.floating` is deprecated. In future, it will be treated as `np.float64 == np.dtype(float).type`.\n",
      "  from ._conv import register_converters as _register_converters\n",
      "/anaconda3/lib/python3.6/site-packages/sklearn/cross_validation.py:41: DeprecationWarning: This module was deprecated in version 0.18 in favor of the model_selection module into which all the refactored classes and functions are moved. Also note that the interface of the new CV iterators are different from that of this module. This module will be removed in 0.20.\n",
      "  \"This module will be removed in 0.20.\", DeprecationWarning)\n"
     ]
    }
   ],
   "source": [
    "# import packages (write a script to import all of these at once later)\n",
    "import sys\n",
    "import numpy as np\n",
    "import pandas as pd\n",
    "import matplotlib.pyplot as plt\n",
    "from matplotlib import rcParams\n",
    "import seaborn as sb\n",
    "import h5py\n",
    "\n",
    "from itertools import product\n",
    "from sklearn.model_selection import KFold\n",
    "from sklearn.cross_validation import StratifiedKFold\n",
    "import sklearn.model_selection\n",
    "from sklearn.ensemble import RandomForestClassifier\n",
    "import xgboost\n",
    "import catboost\n",
    "\n",
    "from imblearn.under_sampling import RandomUnderSampler"
   ]
  },
  {
   "cell_type": "markdown",
   "metadata": {},
   "source": [
    "### Teaching purpose: ```python enumerate ```\n",
    "\n",
    "[Enumerate](http://book.pythontips.com/en/latest/enumerate.html) allows us to loop over something and have an automatic counter\n",
    "\n",
    "```python\n",
    "for counter, value in enumerate(some_list):\n",
    "    print(counter, value)\n",
    "```"
   ]
  },
  {
   "cell_type": "code",
   "execution_count": 2,
   "metadata": {},
   "outputs": [],
   "source": [
    "\"\"\"\n",
    "%matplotlib inline: \n",
    "tells matplotlib \n",
    "to print the data visualization \n",
    "within the Python notebook instead \n",
    "of opening it in an external graphical \n",
    "user interface. Matplotlib allows \n",
    "you to make global customizations \n",
    "that are applied to every data \n",
    "visualization produced within \n",
    "a Jupiter notebook.\n",
    "\"\"\"\n",
    "%matplotlib inline\n",
    "rcParams['figure.figsize'] = 7.5, 6\n",
    "# sb.set_style('whitegrid')"
   ]
  },
  {
   "cell_type": "code",
   "execution_count": 3,
   "metadata": {},
   "outputs": [],
   "source": [
    "path = \"/Users/hn/Documents/Kaggle/talkingdata2/\"\n",
    "train_file_name  = \"train.csv.zip\"\n",
    "test_file_name   = \"test.csv.zip\"\n",
    "sample_file_name = \"train_sample.csv.zip\"\n",
    "\n",
    "sample_input = path + sample_file_name\n",
    "train_input  = path + train_file_name\n",
    "test_input   = path + test_file_name"
   ]
  },
  {
   "cell_type": "markdown",
   "metadata": {},
   "source": [
    "# Load CSV Data"
   ]
  },
  {
   "cell_type": "code",
   "execution_count": 4,
   "metadata": {},
   "outputs": [
    {
     "data": {
      "text/plain": [
       "100000"
      ]
     },
     "execution_count": 4,
     "metadata": {},
     "output_type": "execute_result"
    }
   ],
   "source": [
    "train_data = pd.read_csv(train_input)\n",
    "sample_train_data = pd.read_csv(sample_input)\n",
    "test_data = pd.read_csv(test_input)\n",
    "len(sample_train_data[\"ip\"])"
   ]
  },
  {
   "cell_type": "markdown",
   "metadata": {},
   "source": [
    "### Data fields\n",
    "Each row of the training data contains a click record, with the following features.\n",
    "\n",
    "- ***```ip```***: ip address of click.\n",
    "- ***```app```***: app id for marketing.\n",
    "- ***```device```***: device type id of user mobile phone (e.g., iphone 6 plus, iphone 7, huawei mate 7, etc.)\n",
    "- ***```os```***: os version id of user mobile phone\n",
    "- ***```channel```***: channel id of mobile ad publisher\n",
    "- ***```click_time```***: timestamp of click (UTC)\n",
    "- ***```attributed_time```***: if user download the app for after clicking an ad, this is the time of the app download\n",
    "- ***```is_attributed```***: the target that is to be predicted, indicating the app was downloaded\n",
    "\n",
    "Note that ***```ip```***, ***```app```***, ***```device```***, ***```os```***, and ***```channel```*** are encoded (encrypted).\n",
    "\n",
    "The test data is similar, with the following differences:\n",
    "\n",
    "- ***```click_id```***: reference for making predictions\n",
    "- ***```is_attributed```***: not included"
   ]
  },
  {
   "cell_type": "code",
   "execution_count": 5,
   "metadata": {},
   "outputs": [
    {
     "data": {
      "text/html": [
       "<div>\n",
       "<style scoped>\n",
       "    .dataframe tbody tr th:only-of-type {\n",
       "        vertical-align: middle;\n",
       "    }\n",
       "\n",
       "    .dataframe tbody tr th {\n",
       "        vertical-align: top;\n",
       "    }\n",
       "\n",
       "    .dataframe thead th {\n",
       "        text-align: right;\n",
       "    }\n",
       "</style>\n",
       "<table border=\"1\" class=\"dataframe\">\n",
       "  <thead>\n",
       "    <tr style=\"text-align: right;\">\n",
       "      <th></th>\n",
       "      <th>ip</th>\n",
       "      <th>app</th>\n",
       "      <th>device</th>\n",
       "      <th>os</th>\n",
       "      <th>channel</th>\n",
       "      <th>click_time</th>\n",
       "      <th>attributed_time</th>\n",
       "      <th>is_attributed</th>\n",
       "    </tr>\n",
       "  </thead>\n",
       "  <tbody>\n",
       "    <tr>\n",
       "      <th>0</th>\n",
       "      <td>83230</td>\n",
       "      <td>3</td>\n",
       "      <td>1</td>\n",
       "      <td>13</td>\n",
       "      <td>379</td>\n",
       "      <td>2017-11-06 14:32:21</td>\n",
       "      <td>NaN</td>\n",
       "      <td>0</td>\n",
       "    </tr>\n",
       "    <tr>\n",
       "      <th>1</th>\n",
       "      <td>17357</td>\n",
       "      <td>3</td>\n",
       "      <td>1</td>\n",
       "      <td>19</td>\n",
       "      <td>379</td>\n",
       "      <td>2017-11-06 14:33:34</td>\n",
       "      <td>NaN</td>\n",
       "      <td>0</td>\n",
       "    </tr>\n",
       "    <tr>\n",
       "      <th>2</th>\n",
       "      <td>35810</td>\n",
       "      <td>3</td>\n",
       "      <td>1</td>\n",
       "      <td>13</td>\n",
       "      <td>379</td>\n",
       "      <td>2017-11-06 14:34:12</td>\n",
       "      <td>NaN</td>\n",
       "      <td>0</td>\n",
       "    </tr>\n",
       "    <tr>\n",
       "      <th>3</th>\n",
       "      <td>45745</td>\n",
       "      <td>14</td>\n",
       "      <td>1</td>\n",
       "      <td>13</td>\n",
       "      <td>478</td>\n",
       "      <td>2017-11-06 14:34:52</td>\n",
       "      <td>NaN</td>\n",
       "      <td>0</td>\n",
       "    </tr>\n",
       "    <tr>\n",
       "      <th>4</th>\n",
       "      <td>161007</td>\n",
       "      <td>3</td>\n",
       "      <td>1</td>\n",
       "      <td>13</td>\n",
       "      <td>379</td>\n",
       "      <td>2017-11-06 14:35:08</td>\n",
       "      <td>NaN</td>\n",
       "      <td>0</td>\n",
       "    </tr>\n",
       "  </tbody>\n",
       "</table>\n",
       "</div>"
      ],
      "text/plain": [
       "       ip  app  device  os  channel           click_time attributed_time  \\\n",
       "0   83230    3       1  13      379  2017-11-06 14:32:21             NaN   \n",
       "1   17357    3       1  19      379  2017-11-06 14:33:34             NaN   \n",
       "2   35810    3       1  13      379  2017-11-06 14:34:12             NaN   \n",
       "3   45745   14       1  13      478  2017-11-06 14:34:52             NaN   \n",
       "4  161007    3       1  13      379  2017-11-06 14:35:08             NaN   \n",
       "\n",
       "   is_attributed  \n",
       "0              0  \n",
       "1              0  \n",
       "2              0  \n",
       "3              0  \n",
       "4              0  "
      ]
     },
     "execution_count": 5,
     "metadata": {},
     "output_type": "execute_result"
    }
   ],
   "source": [
    "train_data.head()"
   ]
  },
  {
   "cell_type": "code",
   "execution_count": 6,
   "metadata": {},
   "outputs": [],
   "source": [
    "number_of_rows = len(train_data[\"attributed_time\"])\n",
    "attributed_time_nunique= (train_data[\"attributed_time\"].nunique())\n",
    "app_nunique = train_data[\"app\"].nunique()\n",
    "device_nunique = train_data[\"device\"].nunique()\n",
    "os_nunique = train_data[\"os\"].nunique()\n",
    "click_time_nunique = train_data[\"click_time\"].nunique()\n",
    "attributed_time_nunique = train_data[\"attributed_time\"].nunique()\n",
    "is_attributed_nunique = train_data[\"is_attributed\"].nunique()\n",
    "ip_nunique = train_data[\"ip\"].nunique()"
   ]
  },
  {
   "cell_type": "code",
   "execution_count": 7,
   "metadata": {},
   "outputs": [
    {
     "data": {
      "text/plain": [
       "app_nunique                      706\n",
       "attributed_time_nunique       182057\n",
       "click_time_nunique            259620\n",
       "device_nunique                  3475\n",
       "ip_nunique                    277396\n",
       "is_attributed_nunique              2\n",
       "number_of_rows             184903890\n",
       "os_nunique                       800\n",
       "dtype: int64"
      ]
     },
     "execution_count": 7,
     "metadata": {},
     "output_type": "execute_result"
    }
   ],
   "source": [
    "summary = {\"number_of_rows\": number_of_rows,\n",
    "           \"is_attributed_nunique\": is_attributed_nunique,\n",
    "           \"os_nunique\": os_nunique,\n",
    "           \"attributed_time_nunique\":attributed_time_nunique,\n",
    "           \"ip_nunique\": ip_nunique,\n",
    "           \"attributed_time_nunique\": attributed_time_nunique,\n",
    "           \"app_nunique\": app_nunique,\n",
    "           \"device_nunique\": device_nunique,\n",
    "           \"click_time_nunique\":click_time_nunique\n",
    "           }\n",
    "summary_Series = pd.Series(summary)\n",
    "summary_Series"
   ]
  },
  {
   "cell_type": "markdown",
   "metadata": {},
   "source": [
    "### some statistics of train data"
   ]
  },
  {
   "cell_type": "code",
   "execution_count": 124,
   "metadata": {},
   "outputs": [
    {
     "name": "stdout",
     "output_type": "stream",
     "text": [
      "There are 184903890 training observations\n",
      "There are 456846 observations with target value 1\n",
      "There are 184447044 observations with target value 0\n"
     ]
    }
   ],
   "source": [
    "total_obs = len(train_data.is_attributed)\n",
    "positive_obs = len(train_data[train_data.is_attributed==1])\n",
    "print (\"There are {} training observations\".format(total_obs))\n",
    "print (\"There are {} observations with target value 1\".format(positive_obs))\n",
    "print (\"There are {} observations with target value 0\".format(total_obs - positive_obs) )"
   ]
  },
  {
   "cell_type": "code",
   "execution_count": 8,
   "metadata": {},
   "outputs": [],
   "source": [
    "indices = train_data.is_attributed[train_data.is_attributed==0].index"
   ]
  },
  {
   "cell_type": "code",
   "execution_count": 12,
   "metadata": {},
   "outputs": [],
   "source": [
    "first160M = train_data.loc[:160000000, \"is_attributed\"]"
   ]
  },
  {
   "cell_type": "code",
   "execution_count": 14,
   "metadata": {},
   "outputs": [
    {
     "data": {
      "text/plain": [
       "395427"
      ]
     },
     "execution_count": 14,
     "metadata": {},
     "output_type": "execute_result"
    }
   ],
   "source": [
    "sum(first160M)"
   ]
  },
  {
   "cell_type": "markdown",
   "metadata": {},
   "source": [
    "### Separate train features and target"
   ]
  },
  {
   "cell_type": "code",
   "execution_count": null,
   "metadata": {},
   "outputs": [],
   "source": [
    "train_features = train_data[[\"ip\", \"app\", \"device\", \"os\", \"channel\", \"click_time\"]]\n",
    "train_target = train_data[\"is_attributed\"]"
   ]
  },
  {
   "cell_type": "code",
   "execution_count": 6,
   "metadata": {},
   "outputs": [],
   "source": [
    "sample_train_features = sample_train_data[[\"ip\", \"app\", \"device\", \"os\", \"channel\", \"click_time\"]]"
   ]
  },
  {
   "cell_type": "code",
   "execution_count": null,
   "metadata": {},
   "outputs": [],
   "source": [
    "#plt.plot(sample_train_features, '.')"
   ]
  },
  {
   "cell_type": "markdown",
   "metadata": {},
   "source": [
    "```python\n",
    "X = sample_train_data.copy()\n",
    "X = X.drop('is_attributed', axis=1)\n",
    "X = X.fillna(-999)\n",
    "y = sample_train_data.is_attributed\n",
    "for c in sample_train_data.columns[sample_train_data.dtypes == 'object']:\n",
    "    X[c] = X[c].factorize()[0]\n",
    "```"
   ]
  },
  {
   "cell_type": "code",
   "execution_count": null,
   "metadata": {},
   "outputs": [],
   "source": [
    "\"\"\"\n",
    "plt.plot(X[[\"ip\", \"app\", \"device\", \"os\", \"channel\"]], '.')\n",
    "plt.show()\n",
    "\"\"\""
   ]
  },
  {
   "cell_type": "markdown",
   "metadata": {},
   "source": [
    "### Concatenate train and test sets for EDA purposes."
   ]
  },
  {
   "cell_type": "code",
   "execution_count": null,
   "metadata": {},
   "outputs": [],
   "source": [
    "test_features = test_data[[\"ip\", \"app\", \"device\", \"os\", \"channel\", \"click_time\"]]"
   ]
  },
  {
   "cell_type": "code",
   "execution_count": null,
   "metadata": {},
   "outputs": [],
   "source": [
    "test_features[\"is_train\"] = False\n",
    "train_features[\"is_train\"] = True"
   ]
  },
  {
   "cell_type": "code",
   "execution_count": null,
   "metadata": {},
   "outputs": [],
   "source": []
  },
  {
   "cell_type": "code",
   "execution_count": null,
   "metadata": {},
   "outputs": [],
   "source": [
    "train_test_features = train_features.append(test_features)"
   ]
  },
  {
   "cell_type": "code",
   "execution_count": null,
   "metadata": {},
   "outputs": [],
   "source": [
    "train_test_features.head()"
   ]
  },
  {
   "cell_type": "markdown",
   "metadata": {},
   "source": [
    "### There are way too many duplicated rows in trainint set"
   ]
  },
  {
   "cell_type": "code",
   "execution_count": null,
   "metadata": {},
   "outputs": [],
   "source": [
    "train_duplicated_rows = train_data[train_data.duplicated()==True]\n",
    "train_duplicated_rows.head(5)"
   ]
  },
  {
   "cell_type": "code",
   "execution_count": null,
   "metadata": {},
   "outputs": [],
   "source": [
    "len(train_duplicated_rows)"
   ]
  },
  {
   "cell_type": "markdown",
   "metadata": {},
   "source": [
    "# Clean Data\n",
    "- Drop duplicate rows in training set\n",
    "- Convert click_time to datetime and get rid of the time."
   ]
  },
  {
   "cell_type": "code",
   "execution_count": 35,
   "metadata": {},
   "outputs": [],
   "source": [
    "# Drop duplicates of train set\n",
    "train_no_dup_rows = train_data.drop_duplicates()"
   ]
  },
  {
   "cell_type": "code",
   "execution_count": 16,
   "metadata": {},
   "outputs": [],
   "source": [
    "# Drop duplicates of sample train set\n",
    "train_sample_no_dup_rows = sample_train_data.drop_duplicates()\n",
    "test_no_dup_rows = test_data.drop_duplicates()"
   ]
  },
  {
   "cell_type": "markdown",
   "metadata": {},
   "source": [
    "### Save the clean data to disk"
   ]
  },
  {
   "cell_type": "code",
   "execution_count": null,
   "metadata": {},
   "outputs": [],
   "source": [
    "# train_data_no_duplicate_rows.to_csv(path_or_buf=\"/Users/hn/Documents/Kaggle/talkingdata2/train_data_no_duplicate_rows.csv\", header=[\"ip\", \"app\", \"device\", \"os\", \"channel\", \"click_time\", \"attributed_time\", \"is_attributed\"] )"
   ]
  },
  {
   "cell_type": "code",
   "execution_count": null,
   "metadata": {},
   "outputs": [],
   "source": [
    "len(train_no_dup_rows[\"attributed_time\"])"
   ]
  },
  {
   "cell_type": "code",
   "execution_count": null,
   "metadata": {},
   "outputs": [],
   "source": [
    "train_no_dup_rows.head(5)"
   ]
  },
  {
   "cell_type": "markdown",
   "metadata": {},
   "source": [
    "## ip EDA"
   ]
  },
  {
   "cell_type": "code",
   "execution_count": 21,
   "metadata": {},
   "outputs": [
    {
     "data": {
      "image/png": "[encoded data removed]",
      "text/plain": [
       "<matplotlib.figure.Figure at 0x1a123ae320>"
      ]
     },
     "metadata": {},
     "output_type": "display_data"
    }
   ],
   "source": [
    "plt.subplot(1,3,1)\n",
    "plt.hist(train_sample_no_dup_rows[\"ip\"], bins = 300)\n",
    "plt.title('ip in train_sample set')\n",
    "\n",
    "plt.subplot(1,3,2)\n",
    "plt.hist(test_no_dup_rows[\"ip\"], bins = 300)\n",
    "plt.title('ip in test set')\n",
    "\n",
    "plt.subplot(1,3,3)\n",
    "tsndrless = train_sample_no_dup_rows[train_sample_no_dup_rows.ip<130000]\n",
    "plt.hist(tsndrless[\"ip\"], bins = 300)\n",
    "plt.title('ip in train_sample set with ip<130,000')\n",
    "\n",
    "plt.tight_layout()\n",
    "plt.show()"
   ]
  },
  {
   "cell_type": "code",
   "execution_count": 17,
   "metadata": {},
   "outputs": [],
   "source": []
  },
  {
   "cell_type": "code",
   "execution_count": null,
   "metadata": {},
   "outputs": [],
   "source": [
    "# count the numbe of NaN's in the ip column.\n",
    "print (\"Number of NaN in ips\", train_no_dup_rows[\"ip\"].isnull().sum())"
   ]
  },
  {
   "cell_type": "code",
   "execution_count": null,
   "metadata": {},
   "outputs": [],
   "source": [
    "# count number of ip duplicats\n",
    "print (\"Number of duplicated ip's are\", train_no_dup_rows[\"ip\"].duplicated().sum())"
   ]
  },
  {
   "cell_type": "code",
   "execution_count": null,
   "metadata": {},
   "outputs": [],
   "source": [
    "# count number of ip's, how many times each is repeated.\n",
    "ip_count = train_no_dup_rows[\"ip\"].value_counts()"
   ]
  },
  {
   "cell_type": "code",
   "execution_count": null,
   "metadata": {},
   "outputs": [],
   "source": [
    "print (\"ip counts:\")\n",
    "print (ip_count.head(5))\n",
    "print ()\n",
    "print (\"most repeated ip is {} which is repeated {} times\".format(ip_count.index[0], ip_count.iloc[0]))"
   ]
  },
  {
   "cell_type": "markdown",
   "metadata": {},
   "source": [
    "### device EDA"
   ]
  },
  {
   "cell_type": "code",
   "execution_count": 20,
   "metadata": {},
   "outputs": [
    {
     "data": {
      "image/png": "[encoded data removed]",
      "text/plain": [
       "<matplotlib.figure.Figure at 0x1a197da3c8>"
      ]
     },
     "metadata": {},
     "output_type": "display_data"
    }
   ],
   "source": [
    "# sb.distplot(train_data[\"channel\"])\n",
    "plt.subplot(1,2,1)\n",
    "plt.hist(train_sample_no_dup_rows[\"channel\"], bins = 16)\n",
    "plt.title('channel in train_sample set')\n",
    "\n",
    "\n",
    "plt.subplot(1,2,2)\n",
    "plt.hist(test_no_dup_rows[\"channel\"], bins = 16)\n",
    "plt.title('channel in test set')\n",
    "plt.show()"
   ]
  },
  {
   "cell_type": "code",
   "execution_count": 22,
   "metadata": {},
   "outputs": [
    {
     "data": {
      "image/png": "[encoded data removed]",
      "text/plain": [
       "<matplotlib.figure.Figure at 0x1a1b4aa828>"
      ]
     },
     "metadata": {},
     "output_type": "display_data"
    }
   ],
   "source": [
    "# sb.distplot(train_data_no_duplicate_rows[\"os\"])\n",
    "plt.subplot(1,2,1)\n",
    "plt.hist(train_sample_no_dup_rows[\"os\"], bins = 200)\n",
    "plt.title('os in train_sample set')\n",
    "\n",
    "plt.subplot(1,2,2)\n",
    "plt.hist(test_no_dup_rows[\"os\"], bins = 200)\n",
    "plt.title('os in test set')\n",
    "plt.show()"
   ]
  },
  {
   "cell_type": "markdown",
   "metadata": {},
   "source": [
    "It seems some of the OS encodings provided by the company are too high. Perhaps they were missing and are replaced by random numbers. Lets investigate more:"
   ]
  },
  {
   "cell_type": "code",
   "execution_count": 30,
   "metadata": {},
   "outputs": [
    {
     "data": {
      "text/plain": [
       "array([  0,   1,   2,   3,   4,   5,   6,   7,   8,   9,  10,  11,  12,\n",
       "        13,  14,  15,  16,  17,  18,  19,  20,  21,  22,  23,  24,  25,\n",
       "        26,  27,  28,  29,  30,  31,  32,  34,  35,  36,  37,  38,  39,\n",
       "        40,  41,  42,  43,  44,  45,  46,  47,  48,  49,  50,  52,  53,\n",
       "        55,  56,  57,  58,  59,  60,  61,  62,  63,  64,  65,  66,  67,\n",
       "        68,  69,  70,  71,  73,  74,  76,  77,  78,  79,  80,  81,  83,\n",
       "        84,  85,  87,  88,  90,  92,  96,  97,  98,  99, 100, 102, 106,\n",
       "       107, 108, 109, 110, 111, 112, 113, 114, 116, 117, 118, 127, 129,\n",
       "       132, 133, 135, 137, 138, 142, 151, 152, 153, 155, 168, 172, 174,\n",
       "       178, 184, 185, 192, 193, 196, 198, 199, 207, 607, 748, 836, 866])"
      ]
     },
     "execution_count": 30,
     "metadata": {},
     "output_type": "execute_result"
    }
   ],
   "source": [
    "np.sort(train_sample_no_dup_rows[\"os\"].unique())"
   ]
  },
  {
   "cell_type": "code",
   "execution_count": 126,
   "metadata": {},
   "outputs": [
    {
     "name": "stdout",
     "output_type": "stream",
     "text": [
      "Number of data points with OS=607 is 382\n",
      "Number of data points with OS=748 is 166\n",
      "Number of data points with OS=836 is 1\n",
      "Number of data points with OS=866 is 115\n"
     ]
    }
   ],
   "source": [
    "print (\"Number of data points with OS={} is {}\".format(607, (len(train_sample_no_dup_rows[train_sample_no_dup_rows[\"os\"]==607]))))\n",
    "print (\"Number of data points with OS={} is {}\".format(748, (len(train_sample_no_dup_rows[train_sample_no_dup_rows[\"os\"]==748]))))\n",
    "print (\"Number of data points with OS={} is {}\".format(836, (len(train_sample_no_dup_rows[train_sample_no_dup_rows[\"os\"]==836]))))\n",
    "print (\"Number of data points with OS={} is {}\".format(866, (len(train_sample_no_dup_rows[train_sample_no_dup_rows[\"os\"]==866]))))"
   ]
  },
  {
   "cell_type": "code",
   "execution_count": 60,
   "metadata": {},
   "outputs": [
    {
     "data": {
      "text/plain": [
       "710992"
      ]
     },
     "execution_count": 60,
     "metadata": {},
     "output_type": "execute_result"
    }
   ],
   "source": [
    "A = train_no_dup_rows[(train_no_dup_rows.os>=600) & (train_no_dup_rows.os<=650)]\n",
    "len(A)"
   ]
  },
  {
   "cell_type": "code",
   "execution_count": 61,
   "metadata": {},
   "outputs": [
    {
     "data": {
      "text/plain": [
       "286256"
      ]
     },
     "execution_count": 61,
     "metadata": {},
     "output_type": "execute_result"
    }
   ],
   "source": [
    "B = train_no_dup_rows[(train_no_dup_rows.os>=725) & (train_no_dup_rows.os<=788)]\n",
    "len(B)"
   ]
  },
  {
   "cell_type": "code",
   "execution_count": 62,
   "metadata": {},
   "outputs": [
    {
     "data": {
      "text/plain": [
       "201095"
      ]
     },
     "execution_count": 62,
     "metadata": {},
     "output_type": "execute_result"
    }
   ],
   "source": [
    "C = train_no_dup_rows[(train_no_dup_rows.os>=850) & (train_no_dup_rows.os<=900)]\n",
    "len(C)"
   ]
  },
  {
   "cell_type": "code",
   "execution_count": 50,
   "metadata": {},
   "outputs": [
    {
     "data": {
      "text/plain": [
       "800"
      ]
     },
     "execution_count": 50,
     "metadata": {},
     "output_type": "execute_result"
    }
   ],
   "source": [
    "len(np.sort(train_no_dup_rows[\"os\"].unique()))"
   ]
  },
  {
   "cell_type": "code",
   "execution_count": 120,
   "metadata": {},
   "outputs": [
    {
     "data": {
      "image/png": "[encoded data removed]",
      "text/plain": [
       "<matplotlib.figure.Figure at 0x1a19e03710>"
      ]
     },
     "metadata": {},
     "output_type": "display_data"
    }
   ],
   "source": [
    "plt.subplot(1,3,1)\n",
    "plt.hist(A[\"os\"], bins = 10)\n",
    "plt.title('600<= os <=650')\n",
    "\n",
    "plt.subplot(1,3,2)\n",
    "plt.hist(B[\"os\"], bins = 20)\n",
    "plt.title('725<= os <=788')\n",
    "\n",
    "plt.subplot(1,3,3)\n",
    "plt.hist(C[\"os\"], bins = 20)\n",
    "plt.title('850<= os <=900')\n",
    "plt.tight_layout()\n",
    "plt.show()"
   ]
  },
  {
   "cell_type": "code",
   "execution_count": 88,
   "metadata": {},
   "outputs": [
    {
     "name": "stdout",
     "output_type": "stream",
     "text": [
      "l1= [0, 0, 3, 54, 0, 0, 0, 710758, 2, 2, 6, 2, 2, 3, 37, 2, 3, 3, 1, 2, 2, 5, 6, 25, 6, 1, 1, 1, 2, 3, 1, 1, 1, 3, 5, 2, 1, 1, 1, 2, 5, 3, 2, 2, 1, 17, 1, 2, 3, 5]\n"
     ]
    }
   ],
   "source": [
    "l1 = [None]*50\n",
    "for ii in np.arange(600, 650):\n",
    "    l1[ii-600] = len(A[A[\"os\"]==ii])\n",
    "print (\"l1=\", l1)"
   ]
  },
  {
   "cell_type": "code",
   "execution_count": 86,
   "metadata": {},
   "outputs": [
    {
     "name": "stdout",
     "output_type": "stream",
     "text": [
      "l2= [2, 2, 2, 1, 2, 8, 1, 1, 4, 1, 3, 4, 2, 2, 3, 1, 1, 2, 3, 6, 2, 1, 4, 286076, 1, 2, 1, 3, 3, 1, 18, 2, 1, 3, 2, 1, 2, 5, 14, 4, 1, 1, 1, 1, 1, 1, 2, 1, 1, 1, 1, 3, 9, 1, 13, 4, 2, 6, 1, 2, 1, 1, 3]\n"
     ]
    }
   ],
   "source": [
    "l2 = [None]*63\n",
    "for ii in np.arange(725, 788):\n",
    "    l2[ii-725] = len(B[B[\"os\"]==ii])\n",
    "print (\"l2=\", l2)"
   ]
  },
  {
   "cell_type": "code",
   "execution_count": 87,
   "metadata": {},
   "outputs": [
    {
     "name": "stdout",
     "output_type": "stream",
     "text": [
      "l3= [4, 1, 2, 2, 5, 3, 4, 5, 1, 1, 1, 1, 1, 4, 1, 1, 200981, 2, 4, 1, 3, 1, 1, 2, 3, 1, 3, 1, 1, 3, 1, 3, 4, 2, 3, 6, 2, 1, 2, 2, 1, 2, 1, 1, 1, 1, 4, 3, 1, 2]\n"
     ]
    }
   ],
   "source": [
    "l3 = [None]*50\n",
    "for ii in np.arange(850, 900):\n",
    "    l3[ii-850] = len(C[C[\"os\"]==ii])\n",
    "print (\"l3=\", l3)"
   ]
  },
  {
   "cell_type": "code",
   "execution_count": 102,
   "metadata": {},
   "outputs": [
    {
     "name": "stdout",
     "output_type": "stream",
     "text": [
      "No. of obs. in test  set with device code greater than 2000 is 767\n",
      "No. of obs. in train set with device code greater than 2000 is 1140473\n"
     ]
    }
   ],
   "source": [
    "a = 2000\n",
    "print (\"No. of obs. in test  set with device code greater than {} is {}\".format(a, len(test_no_dup_rows[test_no_dup_rows[\"device\"]>a])))\n",
    "print (\"No. of obs. in train set with device code greater than {} is {}\".format(a, len(train_no_dup_rows[train_no_dup_rows[\"device\"]>a])))"
   ]
  },
  {
   "cell_type": "code",
   "execution_count": 119,
   "metadata": {},
   "outputs": [
    {
     "data": {
      "image/png": "[encoded data removed]",
      "text/plain": [
       "<matplotlib.figure.Figure at 0x1a1ea56080>"
      ]
     },
     "metadata": {},
     "output_type": "display_data"
    }
   ],
   "source": [
    "# sb.distplot(train_data[\"device\"])\n",
    "plt.subplot(1,2,1)\n",
    "plt.hist(train_sample_no_dup_rows[\"device\"], bins = 20)\n",
    "plt.title('device in train_sample set')\n",
    "\n",
    "plt.subplot(1,2,2)\n",
    "plt.hist(test_no_dup_rows[\"device\"], bins = 20)\n",
    "plt.title('device in test set')\n",
    "plt.show()"
   ]
  },
  {
   "cell_type": "markdown",
   "metadata": {},
   "source": [
    "### Histograms of different features against target.\n"
   ]
  },
  {
   "cell_type": "code",
   "execution_count": 109,
   "metadata": {},
   "outputs": [
    {
     "name": "stdout",
     "output_type": "stream",
     "text": [
      "Number of observations is 99999\n",
      "Number of observations that downloaded an app is 227\n"
     ]
    }
   ],
   "source": [
    "print (\"Number of observations is {}\".format(len(train_sample_no_dup_rows.is_attributed)))\n",
    "\n",
    "print (\"Number of observations that downloaded an app is {}\".format(len(downloaded_by_os)))"
   ]
  },
  {
   "cell_type": "code",
   "execution_count": 116,
   "metadata": {},
   "outputs": [
    {
     "data": {
      "image/png": "[encoded data removed]",
      "text/plain": [
       "<matplotlib.figure.Figure at 0x1a19db7208>"
      ]
     },
     "metadata": {},
     "output_type": "display_data"
    }
   ],
   "source": [
    "downloaded_by_os = train_sample_no_dup_rows[train_sample_no_dup_rows.is_attributed==1]\n",
    "\n",
    "plt.subplot(1,2,1)\n",
    "train_sample_no_dup_rows.groupby(\"os\").is_attributed.hist(bins=10, alpha=0.4)\n",
    "\n",
    "plt.subplot(1,2,2)\n",
    "downloaded_by_os.groupby(\"os\").is_attributed.hist(bins=10, alpha=0.4)\n",
    "plt.tight_layout()\n",
    "plt.show()"
   ]
  },
  {
   "cell_type": "code",
   "execution_count": 117,
   "metadata": {},
   "outputs": [
    {
     "data": {
      "image/png": "[encoded data removed]",
      "text/plain": [
       "<matplotlib.figure.Figure at 0x1a1b9ef400>"
      ]
     },
     "metadata": {},
     "output_type": "display_data"
    }
   ],
   "source": [
    "train_sample_no_dup_rows.groupby(\"os\").is_attributed.hist(bins=10, alpha=0.4)\n",
    "plt.show()"
   ]
  },
  {
   "cell_type": "code",
   "execution_count": 118,
   "metadata": {},
   "outputs": [
    {
     "data": {
      "image/png": "[encoded data removed]",
      "text/plain": [
       "<matplotlib.figure.Figure at 0x1a1cb35d30>"
      ]
     },
     "metadata": {},
     "output_type": "display_data"
    }
   ],
   "source": [
    "downloaded_by_os = train_sample_no_dup_rows[train_sample_no_dup_rows.is_attributed==1]\n",
    "downloaded_by_os.groupby(\"os\").is_attributed.hist(bins=10, alpha=0.4)\n",
    "plt.show()"
   ]
  },
  {
   "cell_type": "code",
   "execution_count": 110,
   "metadata": {},
   "outputs": [
    {
     "name": "stdout",
     "output_type": "stream",
     "text": [
      "Number of observations is 99999\n",
      "Number of observations that downloaded an app is 227\n"
     ]
    }
   ],
   "source": [
    "print (\"Number of observations is {}\".format(len(train_sample_no_dup_rows.is_attributed)))\n",
    "\n",
    "print (\"Number of observations that downloaded an app is {}\".format(len(downloaded_by_device)))"
   ]
  },
  {
   "cell_type": "code",
   "execution_count": 114,
   "metadata": {},
   "outputs": [
    {
     "data": {
      "image/png": "[encoded data removed]",
      "text/plain": [
       "<matplotlib.figure.Figure at 0x1a1b5a7a90>"
      ]
     },
     "metadata": {},
     "output_type": "display_data"
    }
   ],
   "source": [
    "downloaded_by_device = train_sample_no_dup_rows[train_sample_no_dup_rows.is_attributed==1]\n",
    "\n",
    "plt.subplot(1,2,1)\n",
    "train_sample_no_dup_rows.groupby(\"device\").is_attributed.hist(bins=10, alpha=0.4)\n",
    "\n",
    "plt.subplot(1,2,2)\n",
    "downloaded_by_os.groupby(\"device\").is_attributed.hist(bins=10, alpha=0.4)\n",
    "\n",
    "plt.tight_layout()\n",
    "plt.show()"
   ]
  },
  {
   "cell_type": "code",
   "execution_count": 1,
   "metadata": {},
   "outputs": [],
   "source": [
    "#train_sample_no_dup_rows.groupby(\"ip\").is_attributed.hist(bins=100, alpha=0.4)\n",
    "#plt.show()"
   ]
  },
  {
   "cell_type": "code",
   "execution_count": 19,
   "metadata": {},
   "outputs": [],
   "source": [
    "#plt.hist(np.log(train_data[\"os\"] + (10^-6)))\n",
    "#plt.plot()"
   ]
  },
  {
   "cell_type": "code",
   "execution_count": 121,
   "metadata": {},
   "outputs": [
    {
     "data": {
      "image/png": "[encoded data removed]",
      "text/plain": [
       "<matplotlib.figure.Figure at 0x1a1ae39898>"
      ]
     },
     "metadata": {},
     "output_type": "display_data"
    }
   ],
   "source": [
    "# sb.pairplot(train_data[], train_data[], palette='hls')\n",
    "train_sample_no_dup_rows.plot(kind='scatter', x='device', y='is_attributed', c=['darkgray'], s=150)\n",
    "plt.title('device in train_sample set')\n",
    "plt.show()"
   ]
  },
  {
   "cell_type": "code",
   "execution_count": 122,
   "metadata": {},
   "outputs": [
    {
     "data": {
      "image/png": "[encoded data removed]",
      "text/plain": [
       "<matplotlib.figure.Figure at 0x1a1b5c2b70>"
      ]
     },
     "metadata": {},
     "output_type": "display_data"
    }
   ],
   "source": [
    "train_sample_no_dup_rows.plot(kind='scatter', x='os', y='is_attributed', c=['darkgray'], s=150)\n",
    "plt.title('os in train_sample set')\n",
    "plt.show()"
   ]
  },
  {
   "cell_type": "markdown",
   "metadata": {},
   "source": [
    "# Educational\n",
    "### [The Spearman Rank Correlation](https://docs.scipy.org/doc/scipy-0.14.0/reference/generated/scipy.stats.spearmanr.html), [Chi-square](https://docs.scipy.org/doc/scipy-0.15.1/reference/generated/scipy.stats.chi2_contingency.html) test for independence\n",
    "\n",
    "\n",
    "The [Chi-square](http://www.ling.upenn.edu/~clight/chisquared.htm) test is intended to test \n",
    "how likely it is that an observed distribution \n",
    "is due to chance. It is also called a \"goodness of fit\" statistic, \n",
    "because it measures how well the observed \n",
    "distribution of data fits with the distribution \n",
    "that is expected if the variables are independent. \n",
    "\n",
    "A Chi-square test is designed to analyze categorical data\n",
    "e.g.\n",
    "```python\n",
    "cyl = cars['cyl']\n",
    "vs = cars['vs']\n",
    "am = cars['am']\n",
    "gear = cars['gear']\n",
    "spearmanr_coefficient, p_value = spearmanr(cyl, vs)\n",
    "print 'Spearman Rank Correlation Coefficient %0.3f' % (spearmanr_coefficient)\n",
    "```\n",
    "e.g.\n",
    "```python\n",
    "table = pd.crosstab(cyl, am)\n",
    "chi2, p, dof, expected = chi2_contingency(table.values)\n",
    "print 'Chi-square Statistic %0.3f p_value %0.3f' % (chi2, p)\n",
    "```\n",
    "\n",
    "read more about [Spearman's rank correlation coefficient](https://en.wikipedia.org/wiki/Spearman%27s_rank_correlation_coefficient) and [${\\chi}^2$ test](https://en.wikipedia.org/wiki/Chi-squared_test)on wikipedia"
   ]
  },
  {
   "cell_type": "code",
   "execution_count": null,
   "metadata": {},
   "outputs": [],
   "source": [
    "import scipy\n",
    "from scipy.stats import spearmanr\n",
    "from scipy.stats import chi2_contingency\n",
    "from scipy.stats.stats import pearsonr"
   ]
  },
  {
   "cell_type": "markdown",
   "metadata": {},
   "source": [
    "### os correlation with target"
   ]
  },
  {
   "cell_type": "code",
   "execution_count": null,
   "metadata": {},
   "outputs": [],
   "source": [
    "spearmanr_coefficient, p_value = spearmanr(train_sample_no_dup_rows[\"os\"], train_no_dup_rows[\"is_attributed\"])"
   ]
  },
  {
   "cell_type": "code",
   "execution_count": null,
   "metadata": {},
   "outputs": [],
   "source": [
    "print (\"spearmanr_coefficient={0:.{1}f}\".format(spearmanr_coefficient, 6),\",\", \"p_value={0:.{1}f}\".format(p_value, 4))"
   ]
  },
  {
   "cell_type": "markdown",
   "metadata": {},
   "source": [
    "### ip correlation with target"
   ]
  },
  {
   "cell_type": "code",
   "execution_count": null,
   "metadata": {},
   "outputs": [],
   "source": [
    "spearmanr_coeff, p_value1 = spearmanr(train_sample_no_dup_rows[\"ip\"], train_no_dup_rows[\"is_attributed\"])"
   ]
  },
  {
   "cell_type": "code",
   "execution_count": null,
   "metadata": {},
   "outputs": [],
   "source": [
    "print (\"spearmanr_coefficient={0:.{1}f}\".format(spearmanr_coeff, 6),\",\", \"p_value={0:.{1}f}\".format(p_value1, 4))"
   ]
  },
  {
   "cell_type": "markdown",
   "metadata": {},
   "source": [
    "### os correlation with target"
   ]
  },
  {
   "cell_type": "code",
   "execution_count": null,
   "metadata": {},
   "outputs": [],
   "source": [
    "pearsonr_coeff, p_val = pearsonr(train_sample_no_dup_rows[\"os\"], train_no_dup_rows[\"is_attributed\"])"
   ]
  },
  {
   "cell_type": "code",
   "execution_count": null,
   "metadata": {},
   "outputs": [],
   "source": [
    "print (\"PearsonR Correlation Coefficient={0:.{1}f}\".format(pearsonr_coeff, 6),\",\", \"p_value={0:.{1}f}\".format(p_val, 4))"
   ]
  },
  {
   "cell_type": "code",
   "execution_count": null,
   "metadata": {},
   "outputs": [],
   "source": []
  }
 ],
 "metadata": {
  "kernelspec": {
   "display_name": "Python 3",
   "language": "python",
   "name": "python3"
  },
  "language_info": {
   "codemirror_mode": {
    "name": "ipython",
    "version": 3
   },
   "file_extension": ".py",
   "mimetype": "text/x-python",
   "name": "python",
   "nbconvert_exporter": "python",
   "pygments_lexer": "ipython3",
   "version": "3.6.4"
  }
 },
 "nbformat": 4,
 "nbformat_minor": 2
}
