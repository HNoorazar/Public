{
 "cells": [
  {
   "cell_type": "code",
   "execution_count": 4,
   "metadata": {
    "collapsed": true
   },
   "outputs": [],
   "source": [
    "import numpy as np\n",
    "import seaborn as sb; sb.set()\n",
    "import matplotlib.pyplot as plt"
   ]
  },
  {
   "cell_type": "markdown",
   "metadata": {},
   "source": [
    "## Convert to bio-stochastic matrix. (doubly stochastic)\n",
    "This code uses the method of the Sinkhorn paper:\n",
    "\n",
    "Sinkhorn, R. (1964). A relationship between arbitrary positive matrices and doubly stochastic matrices. The Annals of Mathematical Statistics, 35(2):876–879.)"
   ]
  },
  {
   "cell_type": "code",
   "execution_count": 5,
   "metadata": {
    "collapsed": true
   },
   "outputs": [],
   "source": [
    "def convergedTestBio(matrix, threshold=0.000001):\n",
    "    localMatrix = np.copy(matrix).astype(float)\n",
    "    e1 = sum(abs(np.sum(localMatrix, axis=0) - 1))\n",
    "    e2 = sum(abs(np.sum(localMatrix, axis=1) - 1))\n",
    "    return (e1 + e2) > threshold\n",
    "    \n",
    "def OneStepBio(matrix):\n",
    "    \"\"\" Here we will do one step towards\n",
    "        Making a given matrix a bio-stochastic one        \n",
    "        It does what OneStep does                         \n",
    "    \"\"\"\n",
    "    # copy the input so that the original input is not changed.\n",
    "    localMatrix = np.copy(matrix).astype(float)\n",
    "    \n",
    "    # Divide each row by sum of the entries in the given row.\n",
    "    localMatrix = np.dot(np.diag(1/np.sum(localMatrix, axis=1)), localMatrix)\n",
    "    \n",
    "    # Divide each column by sum of the elements in the given column.\n",
    "    localMatrix = np.dot(localMatrix, np.diag(1/np.sum(localMatrix, axis=0)))\n",
    "    localMatrix = np.triu(localMatrix) + np.transpose(np.triu(localMatrix,1))\n",
    "    return localMatrix\n",
    "    \n",
    "\n",
    "def MakeBistochastic(matrix):\n",
    "    localMatrix = np.copy(matrix).astype(float)\n",
    "    while (convergedTestBio(localMatrix)):\n",
    "        localMatrix = OneStepBio(localMatrix)\n",
    "    return localMatrix"
   ]
  },
  {
   "cell_type": "code",
   "execution_count": 6,
   "metadata": {},
   "outputs": [],
   "source": [
    "A = np.random.randn(10,10)\n",
    "B = MakeBistochastic(A)"
   ]
  },
  {
   "cell_type": "code",
   "execution_count": 7,
   "metadata": {},
   "outputs": [
    {
     "data": {
      "image/png": "[encoded data removed]",
      "text/plain": [
       "<matplotlib.figure.Figure at 0x1a14d5cc10>"
      ]
     },
     "metadata": {},
     "output_type": "display_data"
    }
   ],
   "source": [
    "ax = sb.heatmap(B)\n",
    "plt.show()"
   ]
  },
  {
   "cell_type": "code",
   "execution_count": 10,
   "metadata": {},
   "outputs": [],
   "source": []
  }
 ],
 "metadata": {
  "kernelspec": {
   "display_name": "Python 2",
   "language": "python",
   "name": "python2"
  },
  "language_info": {
   "codemirror_mode": {
    "name": "ipython",
    "version": 2
   },
   "file_extension": ".py",
   "mimetype": "text/x-python",
   "name": "python",
   "nbconvert_exporter": "python",
   "pygments_lexer": "ipython2",
   "version": "2.7.13"
  }
 },
 "nbformat": 4,
 "nbformat_minor": 2
}
